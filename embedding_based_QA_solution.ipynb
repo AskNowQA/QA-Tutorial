{
 "cells": [
  {
   "cell_type": "markdown",
   "metadata": {},
   "source": [
    "# QA - 1\n",
    "This file outlines the method for creating an **embedding based** question answering system."
   ]
  },
  {
   "cell_type": "code",
   "execution_count": 1,
   "metadata": {},
   "outputs": [],
   "source": [
    "from IPython.display import Image"
   ]
  },
  {
   "cell_type": "code",
   "execution_count": 2,
   "metadata": {},
   "outputs": [
    {
     "name": "stderr",
     "output_type": "stream",
     "text": [
      "Traceback (most recent call last):\n",
      "  File \"/home/gaurav/codes/QA-Tutorial/utils/dbpedia_interface.py\", line 137, in __init__\n",
      "    self.labels = pickle.load(open('resources/labels.pickle'))\n",
      "TypeError: a bytes-like object is required, not 'str'\n"
     ]
    },
    {
     "name": "stdout",
     "output_type": "stream",
     "text": [
      "Label Cache not found. Creating a new one\n",
      "error. The relation file should have existed\n",
      "check and continue\n",
      "Loading Glove vocab and vectors from disk. Sit Tight.\n"
     ]
    }
   ],
   "source": [
    "import json\n",
    "import numpy as np\n",
    "import requests\n",
    "from pprint import pprint\n",
    "from tqdm import tqdm_notebook as tqdm\n",
    "import create_data_node as cdn\n",
    "from utils import dbpedia_interface as dbi\n",
    "from utils import query_graph_to_sparql as qgts\n",
    "from utils import natural_language_utilities as nlutils"
   ]
  },
  {
   "cell_type": "markdown",
   "metadata": {},
   "source": [
    "# Goal\n",
    "\n",
    "We want to get $\\vec{q}$, and $\\vec{c}$, and a method to compare $\\vec{q}, \\vec{c}$ getting a score.\n",
    "\n",
    "We can use the score to select the _correct candidate_."
   ]
  },
  {
   "cell_type": "markdown",
   "metadata": {},
   "source": [
    "# Data Preparation\n",
    "As discussed, we need a mechanism to generate core chain candidates given a question.\n",
    "Following are the major steps followed\n",
    "* Find the entity in the question\n",
    "* Collect the subgraph around the entity\n",
    "* Create a set of core chain candidates\n",
    "* Rank the core chain candidates"
   ]
  },
  {
   "cell_type": "markdown",
   "metadata": {},
   "source": [
    "### Entity linking\n",
    "\n",
    "We employ [EARL](http://sda.cs.uni-bonn.de/projects/earl/) which returns a set of candidate entities of which we use the top most one. "
   ]
  },
  {
   "cell_type": "code",
   "execution_count": 3,
   "metadata": {},
   "outputs": [
    {
     "name": "stdout",
     "output_type": "stream",
     "text": [
      "['http://dbpedia.org/resource/Michael_Crichton']\n"
     ]
    }
   ],
   "source": [
    "def get_entities(question,show_internals=False):\n",
    "    \"\"\"\n",
    "        uses EARL to find all the entites present in the question.\n",
    "        :param question: a natural language question.\n",
    "        :return: entities list.\n",
    "    \"\"\"\n",
    "\n",
    "    headers = {\n",
    "        'Content-Type': 'application/json',\n",
    "    }\n",
    "\n",
    "    data = '{\"nlquery\":\"%(p)s\"}'% {\"p\":question}\n",
    "    response = requests.post(' http://asknow02.sda.tech/earl/api/processQuery', headers=headers, data=data)\n",
    "    a = json.loads(response.content)\n",
    "    if show_internals:\n",
    "        pprint(a)\n",
    "    \n",
    "    # Answer parsing\n",
    "    entity_list = []\n",
    "    for i in range(len(a['ertypes'])):\n",
    "        if a['ertypes'][i] == 'entity':\n",
    "            entity_list.append(a['rerankedlists'][str(i)][0][1]) # return the top most one. \n",
    "    return entity_list\n",
    "\n",
    "print(get_entities('What are the awards won by Michael Crichton?',False))"
   ]
  },
  {
   "cell_type": "markdown",
   "metadata": {},
   "source": [
    "### Sub Graph creation.\n",
    "\n",
    "We follow a simple algorithm to generate a two hop sub graph.\n",
    "* Step 1- Given an entity, find all outgoing and incoming relations and their corresponding \n",
    "* Step 2- Use the one-hopped entities and repeat Step 1 to collect a 2-hop subgraph"
   ]
  },
  {
   "cell_type": "code",
   "execution_count": 4,
   "metadata": {},
   "outputs": [
    {
     "name": "stdout",
     "output_type": "stream",
     "text": [
      "Label Cache not found. Creating a new one\n"
     ]
    },
    {
     "name": "stderr",
     "output_type": "stream",
     "text": [
      "Traceback (most recent call last):\n",
      "  File \"/home/gaurav/codes/QA-Tutorial/utils/dbpedia_interface.py\", line 137, in __init__\n",
      "    self.labels = pickle.load(open('resources/labels.pickle'))\n",
      "TypeError: a bytes-like object is required, not 'str'\n"
     ]
    }
   ],
   "source": [
    "# Use this to execute SPARQL queries\n",
    "dbp = dbi.DBPedia()\n",
    "entity = 'http://dbpedia.org/resource/Michael_Crichton'"
   ]
  },
  {
   "cell_type": "markdown",
   "metadata": {},
   "source": [
    "`SELECT DISTINCT ?property ?resource WHERE \n",
    "    { <%(target_resource)s> ?property ?resource }`"
   ]
  },
  {
   "cell_type": "code",
   "execution_count": 5,
   "metadata": {},
   "outputs": [
    {
     "name": "stdout",
     "output_type": "stream",
     "text": [
      "SELECT DISTINCT ?property ?resource WHERE { <http://dbpedia.org/resource/Michael_Crichton> ?property ?resource}\n"
     ]
    }
   ],
   "source": [
    "# To get the outgoing properties/relations and objects\n",
    "\n",
    "# a) Create SPARQL\n",
    "OUTGOING_SPARQL = \\\n",
    "            '''SELECT DISTINCT ?property ?resource WHERE { <%(target_resource)s> ?property ?resource}'''\n",
    "sparql = OUTGOING_SPARQL % {'target_resource': entity}\n",
    "print(sparql)\n",
    "\n",
    "# b) Shoot the query to get answers\n",
    "outgoing = dbp.shoot_custom_query(sparql)"
   ]
  },
  {
   "cell_type": "code",
   "execution_count": 6,
   "metadata": {},
   "outputs": [
    {
     "name": "stdout",
     "output_type": "stream",
     "text": [
      "['http://dbpedia.org/resource/Michael_Crichton',\n",
      " 'http://dbpedia.org/property/influences',\n",
      " 'http://dbpedia.org/resource/George_Orwell']\n"
     ]
    }
   ],
   "source": [
    "# Parse the results\n",
    "triples = []\n",
    "for binding in outgoing['results']['bindings']:\n",
    "    \n",
    "    \"\"\" BLACKLISTING LOGIC GOES HERE \"\"\"\n",
    "    if not ( binding['property']['value'].startswith('http://dbpedia.org/') and\n",
    "             binding['resource']['value'].startswith('http://dbpedia.org/') ):\n",
    "        continue\n",
    "    \n",
    "    triple = [entity, binding['property']['value'], binding['resource']['value']]\n",
    "    triples.append(triple)\n",
    "    \n",
    "pprint(triples[0])"
   ]
  },
  {
   "cell_type": "code",
   "execution_count": 7,
   "metadata": {
    "scrolled": false
   },
   "outputs": [
    {
     "data": {
      "image/png": "[encoded data removed]",
      "text/plain": [
       "<IPython.core.display.Image object>"
      ]
     },
     "execution_count": 7,
     "metadata": {},
     "output_type": "execute_result"
    }
   ],
   "source": [
    "Image(\"img/outgoing.png\")"
   ]
  },
  {
   "cell_type": "markdown",
   "metadata": {},
   "source": [
    "#### Core Chains\n",
    "\n",
    "`Michael Crichton -- (influenced by) --> George Orwell\n",
    " Michael Crichton -- (influenced by) --> POSSIBLE ANSWER\n",
    " Topic Entity     -- (influenced by) --> POSSIBLE ANSWER`\n",
    "\n",
    "can be represented by \n",
    "\n",
    "`+ influenced by`"
   ]
  },
  {
   "cell_type": "code",
   "execution_count": 76,
   "metadata": {
    "scrolled": true
   },
   "outputs": [
    {
     "name": "stdout",
     "output_type": "stream",
     "text": [
      "SELECT DISTINCT ?property ?resource WHERE { ?resource ?property <http://dbpedia.org/resource/Michael_Crichton> }\n",
      "['http://dbpedia.org/resource/ER_(season_1)',\n",
      " 'http://dbpedia.org/property/writtenby',\n",
      " 'http://dbpedia.org/resource/Michael_Crichton']\n"
     ]
    }
   ],
   "source": [
    "# Step for creating all incoming properties and object\n",
    "\n",
    "# a) Create SPARQL\n",
    "INCOMING_SPARQL = '''SELECT DISTINCT ?property ?resource WHERE { ?resource ?property <%(target_resource)s> }'''\n",
    "sparql = INCOMING_SPARQL % {'target_resource':'http://dbpedia.org/resource/Michael_Crichton'}\n",
    "print(sparql)\n",
    "\n",
    "# b) Shoot the query to get answers\n",
    "incoming = dbp.shoot_custom_query(sparql)\n",
    "\n",
    "# c) Interpret results\n",
    "incoming_triples = []\n",
    "for binding in incoming['results']['bindings']:\n",
    "    \n",
    "    \"\"\" BLACKLISTING LOGIC GOES HERE \"\"\"\n",
    "    if not ( binding['property']['value'].startswith('http://dbpedia.org/') and\n",
    "             binding['resource']['value'].startswith('http://dbpedia.org/') ):\n",
    "        continue\n",
    "    \n",
    "    triple = [binding['resource']['value'], binding['property']['value'], entity]\n",
    "    incoming_triples.append(triple)\n",
    "    \n",
    "pprint(incoming_triples[2])"
   ]
  },
  {
   "cell_type": "code",
   "execution_count": 13,
   "metadata": {},
   "outputs": [
    {
     "data": {
      "image/png": "[encoded data removed]",
      "text/plain": [
       "<IPython.core.display.Image object>"
      ]
     },
     "execution_count": 13,
     "metadata": {},
     "output_type": "execute_result"
    }
   ],
   "source": [
    "Image(\"img/incoming.png\")"
   ]
  },
  {
   "cell_type": "markdown",
   "metadata": {},
   "source": [
    "#### Core Chains\n",
    "\n",
    "`ER S01          -- (writer) --> Michael Crichton\n",
    " POSSIBLE ANSWER -- (writer) --> Michael Crichton\n",
    " POSSIBLE ANSWER -- (writer) --> TOPIC ENTITY`\n",
    "\n",
    "can be represented by \n",
    "\n",
    "`- writer`"
   ]
  },
  {
   "cell_type": "markdown",
   "metadata": {},
   "source": [
    "#### Two hop Subgraph Candidates"
   ]
  },
  {
   "cell_type": "code",
   "execution_count": 14,
   "metadata": {},
   "outputs": [],
   "source": [
    "triple = ['http://dbpedia.org/resource/Michael_Crichton', \n",
    "          'http://dbpedia.org/ontology/influences', \n",
    "          'http://dbpedia.org/resource/George_Orwell']\n",
    "\n",
    "two_hop_triple = ['http://dbpedia.org/resource/George_Orwell',\n",
    "                  'http://dbpedia.org/property/birthPlace',\n",
    "                  'http://dbpedia.org/resource/Motihari']\n",
    "\n",
    "# Combine them to form one path \n",
    "path = ' + influences + birthplace'"
   ]
  },
  {
   "cell_type": "code",
   "execution_count": 73,
   "metadata": {},
   "outputs": [
    {
     "name": "stdout",
     "output_type": "stream",
     "text": [
      "Label Cache not found. Creating a new one\n"
     ]
    },
    {
     "name": "stderr",
     "output_type": "stream",
     "text": [
      "Traceback (most recent call last):\n",
      "  File \"/home/gaurav/codes/QA-Tutorial/utils/dbpedia_interface.py\", line 137, in __init__\n",
      "    self.labels = pickle.load(open('resources/labels.pickle'))\n",
      "TypeError: a bytes-like object is required, not 'str'\n"
     ]
    }
   ],
   "source": [
    "# Generalized Fn\n",
    "\n",
    "pb = open('resources/predicate.blacklist').readlines()\n",
    "pb[-1] = pb[-1] + '\\n'\n",
    "pb = [r[:-1] for r in pb]\n",
    "\n",
    "cd_node = cdn.CreateDataNode(_predicate_blacklist=pb, _relation_file={}, _qald=False)\n",
    "hop1,hop2  = cd_node.create_subgraph.subgraph\\\n",
    "            (['http://dbpedia.org/resource/Michael_Crichton'],[],_use_blacklist=True,_qald=False)"
   ]
  },
  {
   "cell_type": "code",
   "execution_count": 72,
   "metadata": {},
   "outputs": [
    {
     "name": "stdout",
     "output_type": "stream",
     "text": [
      "Few examples of hop1 candidates\n",
      "[['-', 'http://dbpedia.org/ontology/notableStudent'],\n",
      " ['+', 'http://dbpedia.org/ontology/spouse'],\n",
      " ['+', 'http://dbpedia.org/ontology/education'],\n",
      " ['-', 'http://dbpedia.org/property/writer'],\n",
      " ['-', 'http://dbpedia.org/ontology/spouse']]\n",
      "Few examples of hop2 candidates\n",
      "[['+',\n",
      "  'http://dbpedia.org/ontology/influencedBy',\n",
      "  '-',\n",
      "  'http://dbpedia.org/property/influences'],\n",
      " ['+',\n",
      "  'http://dbpedia.org/ontology/birthPlace',\n",
      "  '+',\n",
      "  'http://dbpedia.org/property/bird'],\n",
      " ['+',\n",
      "  'http://dbpedia.org/ontology/deathPlace',\n",
      "  '+',\n",
      "  'http://dbpedia.org/property/caption'],\n",
      " ['+',\n",
      "  'http://dbpedia.org/property/influences',\n",
      "  '-',\n",
      "  'http://dbpedia.org/property/title'],\n",
      " ['+',\n",
      "  'http://dbpedia.org/ontology/influencedBy',\n",
      "  '-',\n",
      "  'http://dbpedia.org/property/knownFor']]\n"
     ]
    }
   ],
   "source": [
    "print('Few examples of hop1 candidates')\n",
    "pprint(hop1[:5])\n",
    "print('Few examples of hop2 candidates')\n",
    "pprint(hop2[:5])"
   ]
  },
  {
   "cell_type": "markdown",
   "metadata": {},
   "source": [
    "#### Loading dataset. \n",
    "\n",
    "The dataset consists of 2000 questions without any rdf constraint or count or ask. It is just composed of single hop or two hop query."
   ]
  },
  {
   "cell_type": "code",
   "execution_count": 17,
   "metadata": {},
   "outputs": [],
   "source": [
    "# For brevity's sake, lets continue with this premade thing. Made by calling the fn above for some 2000 questions.\n",
    "dataset = json.load(open('resources/dataset_with_paths.json'))"
   ]
  },
  {
   "cell_type": "markdown",
   "metadata": {},
   "source": [
    "# Scoring Candidates"
   ]
  },
  {
   "cell_type": "markdown",
   "metadata": {},
   "source": [
    "The general mechanism of these approaches involves two things\n",
    "\n",
    "* a way to encode question and core chain candidates\n",
    "* a way to compare these encoded representations\n",
    "\n",
    "In other words\n",
    "\n",
    "$ \\text{answer} = \\underset{c}{\\text{argmax}}\\ \\big( \\text{compare} (\\text{encode}(q), \\text{encode}(c)) \\big)$"
   ]
  },
  {
   "cell_type": "markdown",
   "metadata": {},
   "source": [
    "### Encode Function\n",
    "\n",
    "We use pretrained word embeddings (for simplicity's sake) to do this.\n",
    "Word embeddings can encode text in a multi-dimensional space where the dimensions capture some semantic meaning of the words.\n",
    "\n",
    "![semantic space](img/embeddingspaces.png)\n",
    "Image from https://docs.google.com/file/d/0B7XkCwpI5KDYRWRnd1RzWXQ2TWc/edit\n",
    "\n",
    "We use GloVe vectors which can be found in `resources/glove.6B.300d.txt`\n",
    " "
   ]
  },
  {
   "cell_type": "code",
   "execution_count": 18,
   "metadata": {},
   "outputs": [
    {
     "name": "stdout",
     "output_type": "stream",
     "text": [
      "Loading Glove Model\n"
     ]
    },
    {
     "data": {
      "application/vnd.jupyter.widget-view+json": {
       "model_id": "6379d7083fa343f7bd920ffbfde0c6db",
       "version_major": 2,
       "version_minor": 0
      },
      "text/plain": [
       "HBox(children=(IntProgress(value=1, bar_style='info', max=1), HTML(value='')))"
      ]
     },
     "metadata": {},
     "output_type": "display_data"
    },
    {
     "name": "stdout",
     "output_type": "stream",
     "text": [
      "\n",
      "Done. 400000  words loaded!\n",
      "[ 0.44257    0.3437    -0.20689    0.33262   -0.32858    0.049876\n",
      " -0.81646   -0.089616  -0.63149   -0.58992    0.67766    0.014162\n",
      " -0.53956    0.52693    0.39746    0.23784   -0.12042    0.43829\n",
      "  0.0076536 -0.72675    0.42447   -0.15929   -0.48648    0.21367\n",
      "  0.064124  -0.31504   -0.013611   0.10138    0.55667   -0.040924\n",
      "  0.37968   -0.28772   -0.037292   0.39581   -1.6416    -0.096931\n",
      "  0.56206   -0.072841   0.28403    0.3204    -0.28404   -0.24488\n",
      "  0.46817    1.0212    -0.3496     0.1294    -0.16042    0.24546\n",
      "  0.059833  -0.3496    -0.2108    -0.096158   0.027446  -0.53761\n",
      "  0.068201   0.50613   -0.46356   -0.23799   -0.19227   -0.33223\n",
      " -0.60071    0.13993    0.12347   -0.68083    0.3005     0.23952\n",
      " -0.024779   0.10946   -0.11747    0.28677    0.80632   -0.14015\n",
      "  0.49855   -0.088363  -0.34722    0.13765    0.54237   -0.32921\n",
      "  0.16036   -0.27565   -0.23412    0.085198   0.40191    0.29124\n",
      "  0.16492   -0.13371   -0.34497   -0.43422   -0.32234   -0.19463\n",
      " -0.033622  -0.39057    0.27536    0.031148  -0.15825    0.24308\n",
      "  0.91652   -0.40235   -0.3523    -0.056188   0.47875   -0.17023\n",
      " -0.33118    0.25929    0.6049    -0.3059    -0.30194    0.056708\n",
      "  0.36089   -0.67316    0.36404    0.66703    0.42974   -0.72813\n",
      " -1.0722    -0.15032    0.0081142 -0.25519   -0.65159   -0.26245\n",
      "  0.20819    0.3031    -0.035652  -0.3706     1.1431    -0.36558\n",
      " -0.14095   -0.42527   -0.18174   -0.078985  -0.44254   -0.47594\n",
      "  0.50712   -0.091747  -0.6641     0.0623    -0.20975    0.32006\n",
      " -0.16356    0.60938    0.8902     0.47249    0.28885   -0.20907\n",
      "  0.30499   -0.73331   -0.33471   -0.39856   -0.104     -0.11318\n",
      "  1.3214    -0.55717    0.60696    0.20313   -0.04218    0.28426\n",
      "  0.087109  -0.31926   -0.14993   -0.22177    0.20043    0.062396\n",
      "  0.42313    0.28604   -0.31243    0.2836    -0.49044    0.19865\n",
      " -0.4407    -0.063211   0.49215   -0.3824    -1.101      0.12488\n",
      "  0.0891     0.068324   0.061559  -0.41264   -0.3323     0.26616\n",
      " -0.16      -0.52441    0.64025    0.016991  -0.1594    -0.36664\n",
      " -1.1149    -0.029419  -0.88951   -0.27927   -0.35338    0.34394\n",
      " -0.24375   -0.44705   -0.1714     0.019018  -0.095457   0.57067\n",
      "  0.042903   0.10388    1.8866    -0.4611     0.54161   -0.45584\n",
      "  0.35891    0.38578    0.44504    0.29833    0.017451  -0.17899\n",
      "  0.37012    0.12504    0.073432  -0.23389    0.48709   -0.32738\n",
      " -0.70127    0.13211   -0.11141   -0.11488   -0.73682   -0.87609\n",
      " -0.32407    1.2062    -0.072969  -0.18207   -0.45511   -0.52116\n",
      "  0.61315    0.57617    0.096252  -0.043555  -0.84652    0.12586\n",
      " -0.11307    0.19654   -0.4589    -0.25405    0.028259  -0.42682\n",
      "  0.27078   -0.22728    0.42005   -0.27276   -1.1632     0.14135\n",
      " -0.68543    0.24961   -0.65319    0.055628  -0.051502  -0.50585\n",
      " -0.51213   -0.063296   0.37643   -0.41287    0.40357    0.066301\n",
      "  0.24569   -0.1269     0.34473   -0.59527    0.24972    0.029454\n",
      "  0.47678   -0.21745   -0.24768    0.82366    0.41794   -0.23446\n",
      " -0.14795   -0.68017    0.070435  -0.12294   -0.46615    0.021967\n",
      " -1.0997    -0.53363    0.086286  -0.034379  -1.426     -0.67785\n",
      " -0.15356    0.048902  -0.17947    0.67343   -0.3879    -0.29384\n",
      " -0.054639  -0.39555    0.41429   -0.44929    0.2597    -0.023386\n",
      " -0.021235   0.19551   -0.23784    0.51623   -0.16973   -0.11913  ]\n"
     ]
    }
   ],
   "source": [
    "# Loading the GloVe file \n",
    "import numpy as np \n",
    "\n",
    "def loadGloveModel(gloveFile):\n",
    "    print(\"Loading Glove Model\")\n",
    "    \n",
    "    # file open\n",
    "    f = open(gloveFile,'r')\n",
    "    vector_lookup = {}\n",
    "    for line in tqdm(f):\n",
    "        splitLine = line.split()\n",
    "        word = splitLine[0]\n",
    "        embedding = np.array([float(val) for val in splitLine[1:]])\n",
    "        vector_lookup[word] = embedding\n",
    "    \n",
    "    print(\"Done.\",len(vector_lookup),\" words loaded!\")\n",
    "    return vector_lookup\n",
    "\n",
    "\n",
    "glove = loadGloveModel('resources/glove.6B.300d.txt')\n",
    "\n",
    "# Testing it \n",
    "\n",
    "print(glove['award'])"
   ]
  },
  {
   "cell_type": "markdown",
   "metadata": {},
   "source": [
    "To encode question, 'What are the awards won by Michael Crichton ?', we will follow the folowing steps \n",
    "\n",
    "- **Step 1:** Tokenize question by splitting based on space (one cand use of the shelf tokenizer for significantly better performance)\n",
    "- **Step 2:** Pass each token of the question through embedding matrix\n",
    "- **Step 3:** Compute mean of all the words vectors of the question, to compute its final vector represenation"
   ]
  },
  {
   "cell_type": "code",
   "execution_count": 77,
   "metadata": {},
   "outputs": [],
   "source": [
    "# Step 1\n",
    "question = 'What are the awards won by Michael Crichton?'\n",
    "question_tokens = question.split(' ')"
   ]
  },
  {
   "cell_type": "code",
   "execution_count": 78,
   "metadata": {},
   "outputs": [],
   "source": [
    "# Step 2\n",
    "question_token_vector = []\n",
    "for qt in question_tokens:\n",
    "    \n",
    "    #lowercasing the token\n",
    "    qt_lower = qt.lower()\n",
    "    try:\n",
    "        vec = glove[qt_lower]\n",
    "    except KeyError:\n",
    "        # Assign all unknown word a zero vector\n",
    "        vec = np.zeros(300)\n",
    "    \n",
    "    question_token_vector.append(vec)"
   ]
  },
  {
   "cell_type": "code",
   "execution_count": 79,
   "metadata": {},
   "outputs": [],
   "source": [
    "# Step 3\n",
    "question_vector = np.mean(np.asarray(question_token_vector),axis=0)"
   ]
  },
  {
   "cell_type": "markdown",
   "metadata": {},
   "source": [
    "#### Vectorizing Function"
   ]
  },
  {
   "cell_type": "code",
   "execution_count": 71,
   "metadata": {},
   "outputs": [],
   "source": [
    "def encode(query):\n",
    "    '''\n",
    "        param: query - sentence/string to be encoded.\n",
    "    '''\n",
    "    query_token = query.split(' ')\n",
    "    query_token_vector = []\n",
    "    \n",
    "    for qt in query_token:\n",
    "        qt_lower = qt.lower()\n",
    "        \n",
    "        try:\n",
    "            vec = glove[qt_lower]\n",
    "        except KeyError:\n",
    "            vec = np.zeros(300)\n",
    "        \n",
    "        query_token_vector.append(vec)\n",
    "        \n",
    "    v = np.mean(np.asarray(query_token_vector), axis=0)\n",
    "    return v"
   ]
  },
  {
   "cell_type": "markdown",
   "metadata": {},
   "source": [
    "#### Scoring function."
   ]
  },
  {
   "cell_type": "code",
   "execution_count": 62,
   "metadata": {},
   "outputs": [],
   "source": [
    "def compare(core_chain,question):\n",
    "    '''\n",
    "        potential code stub.\n",
    "    '''\n",
    "    if len(core_chain) == 2:\n",
    "        # corechain looks like ['+', 'http:.../abc']\n",
    "        predicate = nlutils.get_label_via_parsing(core_chain[1],lower=True)\n",
    "    else:\n",
    "        # corechain looks like ['+' 'http:../abc', '-', 'http:../pqr']\n",
    "        predicate = [nlutils.get_label_via_parsing(core_chain[1],lower=True),\n",
    "                     nlutils.get_label_via_parsing(core_chain[3],lower=True)]\n",
    "        predicate = \" \".join(predicate)\n",
    "    \n",
    "    question_vector = encode(query=question)\n",
    "    predicate_vector = encode(query=predicate)\n",
    "    \n",
    "    if np.sum(question_vector) == 0.0 or np.sum(predicate_vector) == 0:\n",
    "        return np.float64(0.0)\n",
    "    else:\n",
    "        return np.dot(predicate_vector, question_vector) / (np.linalg.norm(predicate_vector) *\n",
    "                                                            np.linalg.norm(question_vector))\n",
    "    \n",
    "    # predicate is a string seperated by space -- 'abc pqr'\n",
    "    "
   ]
  },
  {
   "cell_type": "markdown",
   "metadata": {},
   "source": [
    "#### Evaluation\n",
    "\n",
    "The code snippets for evaluating sparql with respect to ground truth sparql"
   ]
  },
  {
   "cell_type": "code",
   "execution_count": 63,
   "metadata": {},
   "outputs": [],
   "source": [
    "def sparql_answer(sparql,dbi=None):\n",
    "    '''\n",
    "        Executes the sparql on dbpedia and returns answer as a list.\n",
    "        :param sparql: SPARQL which will be executed.\n",
    "        :param dbi: The dbpedia interface object which can be used for accesing dbpedia.\n",
    "    '''\n",
    "    if not dbi:\n",
    "        dbi = dbp\n",
    "    test_answer = []\n",
    "    interface_test_answer = dbi.get_answer(sparql)\n",
    "    for key in interface_test_answer:\n",
    "        test_answer = test_answer + interface_test_answer[key]\n",
    "    return list(set(test_answer))\n",
    "\n",
    "\n",
    "def _evaluate_sparqls_(test_sparql, true_sparql,dbp):\n",
    "    # @TODO: If the type of test and true are differnt code would return an error.\n",
    "    \"\"\"\n",
    "        Fmeasure for ask and count are 0/1.\n",
    "        Also assumes the variable to be always uri.\n",
    "        :param test_sparql: SPARQL generated by the pipeline\n",
    "        :param true_sparql: True SPARQL\n",
    "        :param type: COUNT/ASK/LIST\n",
    "        :return: f1,precision,recall\n",
    "    \"\"\"\n",
    "    test_answer = sparql_answer(test_sparql,dbp)\n",
    "    true_answer = sparql_answer(true_sparql,dbp)\n",
    "    total_retrived_resutls = len(test_answer)\n",
    "    total_relevant_resutls = len(true_answer)\n",
    "    common_results = total_retrived_resutls - len(list(set(test_answer ) -set(true_answer)))\n",
    "    if total_retrived_resutls == 0:\n",
    "        precision = 0\n",
    "    else:\n",
    "        precision = common_results *1.0 /total_retrived_resutls\n",
    "    if total_relevant_resutls == 0:\n",
    "        recall = 0\n",
    "    else:\n",
    "        recall = common_results *1.0 /total_relevant_resutls\n",
    "    if precision == 0 and recall == 0:\n",
    "        f1 = 0\n",
    "    else:\n",
    "        f1 = (2.0 * (precision * recall)) / (precision + recall)\n",
    "    return f1 ,precision ,recall"
   ]
  },
  {
   "cell_type": "markdown",
   "metadata": {},
   "source": [
    "#### Putting it all together "
   ]
  },
  {
   "cell_type": "code",
   "execution_count": 64,
   "metadata": {},
   "outputs": [
    {
     "data": {
      "text/plain": [
       "'SELECT DISTINCT ?uri WHERE { {<http://dbpedia.org/resource/Michael_Crichton> <http://dbpedia.org/property/party> ?x} UNION {<http://dbpedia.org/resource/Michael_Crichton> <http://dbpedia.org/ontology/party> ?x} UNION {<http://dbpedia.org/resource/Michael_Crichton> <http://purl.org/dc/terms/party> ?x} . {?x <http://dbpedia.org/property/ideology> ?uri} UNION{?x <http://dbpedia.org/ontology/ideology> ?uri} UNION{?x <http://purl.org/dc/terms/ideology> ?uri} .  }'"
      ]
     },
     "execution_count": 64,
     "metadata": {},
     "output_type": "execute_result"
    }
   ],
   "source": [
    "# Ranking\n",
    "core_chain = dataset[0]['hop1'][1]\n",
    "question = 'Who is the president of India ?'\n",
    "compare(core_chain,question)\n",
    "\n",
    "\n",
    "# Core chain to SPARQL\n",
    "graph = {\n",
    "    'best_path' : ['+', 'http://dbpedia.org/property/party', '+', 'http://dbpedia.org/ontology/ideology'],\n",
    "    'entities' : ['http://dbpedia.org/resource/Michael_Crichton']\n",
    "}\n",
    "qgts.convert_runtime(graph)"
   ]
  },
  {
   "cell_type": "code",
   "execution_count": 80,
   "metadata": {
    "scrolled": true
   },
   "outputs": [
    {
     "name": "stdout",
     "output_type": "stream",
     "text": [
      "Label Cache not found. Creating a new one\n"
     ]
    },
    {
     "name": "stderr",
     "output_type": "stream",
     "text": [
      "Traceback (most recent call last):\n",
      "  File \"/home/gaurav/codes/QA-Tutorial/utils/dbpedia_interface.py\", line 137, in __init__\n",
      "    self.labels = pickle.load(open('resources/labels.pickle'))\n",
      "TypeError: a bytes-like object is required, not 'str'\n"
     ]
    },
    {
     "data": {
      "application/vnd.jupyter.widget-view+json": {
       "model_id": "4642f41d3723419caa65224f214a9423",
       "version_major": 2,
       "version_minor": 0
      },
      "text/plain": [
       "HBox(children=(IntProgress(value=0, max=10), HTML(value='')))"
      ]
     },
     "metadata": {},
     "output_type": "display_data"
    },
    {
     "data": {
      "application/vnd.jupyter.widget-view+json": {
       "model_id": "07e21f1c4db74dee8f441a7664cf01b8",
       "version_major": 2,
       "version_minor": 0
      },
      "text/plain": [
       "HBox(children=(IntProgress(value=1, bar_style='info', max=1), HTML(value='')))"
      ]
     },
     "metadata": {},
     "output_type": "display_data"
    },
    {
     "data": {
      "application/vnd.jupyter.widget-view+json": {
       "model_id": "841fd30c4e894c8dbe7de8733fd7c104",
       "version_major": 2,
       "version_minor": 0
      },
      "text/plain": [
       "HBox(children=(IntProgress(value=1, bar_style='info', max=1), HTML(value='')))"
      ]
     },
     "metadata": {},
     "output_type": "display_data"
    },
    {
     "data": {
      "application/vnd.jupyter.widget-view+json": {
       "model_id": "b75077c9c85c4779a574b94fb1fd4a96",
       "version_major": 2,
       "version_minor": 0
      },
      "text/plain": [
       "HBox(children=(IntProgress(value=1, bar_style='info', max=1), HTML(value='')))"
      ]
     },
     "metadata": {},
     "output_type": "display_data"
    },
    {
     "data": {
      "application/vnd.jupyter.widget-view+json": {
       "model_id": "121f04e4c7644388b8f6bf00a924f3dd",
       "version_major": 2,
       "version_minor": 0
      },
      "text/plain": [
       "HBox(children=(IntProgress(value=1, bar_style='info', max=1), HTML(value='')))"
      ]
     },
     "metadata": {},
     "output_type": "display_data"
    },
    {
     "data": {
      "application/vnd.jupyter.widget-view+json": {
       "model_id": "985ece0a1e324a849ca2941c0ac2f7d9",
       "version_major": 2,
       "version_minor": 0
      },
      "text/plain": [
       "HBox(children=(IntProgress(value=1, bar_style='info', max=1), HTML(value='')))"
      ]
     },
     "metadata": {},
     "output_type": "display_data"
    },
    {
     "data": {
      "application/vnd.jupyter.widget-view+json": {
       "model_id": "a8ecb96dc0f044cea5ed0e98aec7bff6",
       "version_major": 2,
       "version_minor": 0
      },
      "text/plain": [
       "HBox(children=(IntProgress(value=1, bar_style='info', max=1), HTML(value='')))"
      ]
     },
     "metadata": {},
     "output_type": "display_data"
    },
    {
     "data": {
      "application/vnd.jupyter.widget-view+json": {
       "model_id": "12ce0dca684f42aeb9ae18fe8d1eac86",
       "version_major": 2,
       "version_minor": 0
      },
      "text/plain": [
       "HBox(children=(IntProgress(value=1, bar_style='info', max=1), HTML(value='')))"
      ]
     },
     "metadata": {},
     "output_type": "display_data"
    },
    {
     "data": {
      "application/vnd.jupyter.widget-view+json": {
       "model_id": "5dcefabb3384487788d3e07dfb875d9c",
       "version_major": 2,
       "version_minor": 0
      },
      "text/plain": [
       "HBox(children=(IntProgress(value=1, bar_style='info', max=1), HTML(value='')))"
      ]
     },
     "metadata": {},
     "output_type": "display_data"
    },
    {
     "data": {
      "application/vnd.jupyter.widget-view+json": {
       "model_id": "e6fe7862f8264842ba1e0105fe120bbf",
       "version_major": 2,
       "version_minor": 0
      },
      "text/plain": [
       "HBox(children=(IntProgress(value=1, bar_style='info', max=1), HTML(value='')))"
      ]
     },
     "metadata": {},
     "output_type": "display_data"
    },
    {
     "data": {
      "application/vnd.jupyter.widget-view+json": {
       "model_id": "06db5d7700954f3cb12371c58973a151",
       "version_major": 2,
       "version_minor": 0
      },
      "text/plain": [
       "HBox(children=(IntProgress(value=1, bar_style='info', max=1), HTML(value='')))"
      ]
     },
     "metadata": {},
     "output_type": "display_data"
    },
    {
     "name": "stdout",
     "output_type": "stream",
     "text": [
      "\n"
     ]
    }
   ],
   "source": [
    "dbp = dbi.DBPedia()\n",
    "precision = []\n",
    "f,p,r = [],[],[]\n",
    "\n",
    "for node in tqdm(dataset[:10]):\n",
    "\n",
    "    max_score = 0.0\n",
    "    max_index = -1\n",
    "    \n",
    "    for index,cc in tqdm(enumerate([node['path']]+node['hop1']+node['hop2'])):\n",
    "\n",
    "        # Find the score of the core chain\n",
    "        score = compare(cc,node['node']['corrected_question'])\n",
    "\n",
    "        # check if score is higher when compared to max_score and if so,\n",
    "        # updated the max_score and index.\n",
    "        if score > max_score:\n",
    "            max_score = score\n",
    "            max_index = index\n",
    "    \n",
    "    # if max_index is zero, it means the highest score was for the correct path.\n",
    "    if max_index == 0:\n",
    "        precision.append(1)\n",
    "    else:\n",
    "        precision.append(0)\n",
    "    \n",
    "    # find the highest scored path (corechain - cc.)\n",
    "    combined = [node['path']]+node['hop1']+node['hop2']\n",
    "    best_cc =  combined[max_index]\n",
    "    \n",
    "    # convert the highest scored cc to SPARQL.\n",
    "    graph = {\n",
    "        'best_path' : best_cc,\n",
    "        'entities' : node['entity']\n",
    "    }\n",
    "    \n",
    "\n",
    "    sparql = qgts.convert_runtime(graph)\n",
    "    _f,_p,_r = _evaluate_sparqls_(test_sparql=sparql, true_sparql=node['node']['sparql_query'],dbp=dbp)\n",
    "    \n",
    "    f.append(_f)\n",
    "    p.append(_p)\n",
    "    r.append(_r)"
   ]
  },
  {
   "cell_type": "code",
   "execution_count": 81,
   "metadata": {},
   "outputs": [
    {
     "data": {
      "text/plain": [
       "(0.3, 0.33999999999999997, 0.4, 0.325)"
      ]
     },
     "execution_count": 81,
     "metadata": {},
     "output_type": "execute_result"
    }
   ],
   "source": [
    "np.mean(precision), np.mean(f), np.mean(p), np.mean(r)"
   ]
  }
 ],
 "metadata": {
  "kernelspec": {
   "display_name": "Python 3",
   "language": "python",
   "name": "python3"
  },
  "language_info": {
   "codemirror_mode": {
    "name": "ipython",
    "version": 3
   },
   "file_extension": ".py",
   "mimetype": "text/x-python",
   "name": "python",
   "nbconvert_exporter": "python",
   "pygments_lexer": "ipython3",
   "version": "3.6.6"
  }
 },
 "nbformat": 4,
 "nbformat_minor": 2
}
